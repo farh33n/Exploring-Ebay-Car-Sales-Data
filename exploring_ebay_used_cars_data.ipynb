{
 "cells": [
  {
   "cell_type": "markdown",
   "metadata": {
    "collapsed": true
   },
   "source": [
    "### This project is part of \"Pandas and NumPy Fundamentals\" course on DataQuest.io.\n",
    "### The dataset is of used cars from eBay Kleinanzeigen, a classifieds section of the German eBay website. The dataset has been downloaded from [kaggle](https://www.kaggle.com/orgesleka/used-cars-database/data) but it has been modified for this project.\n",
    "Features in the dataset include:\n",
    " - dateCrawled - When this ad was first crawled. All field-values are taken from this date.\n",
    " - name - Name of the car.\n",
    " - seller - Whether the seller is private or a dealer.\n",
    " - offerType - The type of listing\n",
    " - price - The price on the ad to sell the car.\n",
    " - abtest - Whether the listing is included in an A/B test.\n",
    " - vehicleType - The vehicle Type.\n",
    " - yearOfRegistration - The year in which the car was first registered.\n",
    " - gearbox - The transmission type.\n",
    " - powerPS - The power of the car in PS.\n",
    " - model - The car model name.\n",
    " - kilometer - How many kilometers the car has driven.\n",
    " - monthOfRegistration - The month in which the car was first registered.\n",
    " - fuelType - What type of fuel the car uses.\n",
    " - brand - The brand of the car.\n",
    " - notRepairedDamage - If the car has a damage which is not yet repaired.\n",
    " - dateCreated - The date on which the eBay listing was created.\n",
    " - nrOfPictures - The number of pictures in the ad.\n",
    " - postalCode - The postal code for the location of the vehicle.\n",
    " - lastSeenOnline - When the crawler saw this ad last online.\n"
   ]
  },
  {
   "cell_type": "code",
   "execution_count": 129,
   "metadata": {
    "collapsed": true
   },
   "outputs": [],
   "source": [
    "import numpy as np\n",
    "import pandas as pd"
   ]
  },
  {
   "cell_type": "code",
   "execution_count": 130,
   "metadata": {
    "collapsed": true
   },
   "outputs": [],
   "source": [
    "autos = pd.read_csv(\"autos.csv\", encoding='Latin-1')"
   ]
  },
  {
   "cell_type": "code",
   "execution_count": 131,
   "metadata": {
    "collapsed": false
   },
   "outputs": [
    {
     "name": "stdout",
     "output_type": "stream",
     "text": [
      "<class 'pandas.core.frame.DataFrame'>\n",
      "RangeIndex: 50000 entries, 0 to 49999\n",
      "Data columns (total 20 columns):\n",
      "dateCrawled            50000 non-null object\n",
      "name                   50000 non-null object\n",
      "seller                 50000 non-null object\n",
      "offerType              50000 non-null object\n",
      "price                  50000 non-null object\n",
      "abtest                 50000 non-null object\n",
      "vehicleType            44905 non-null object\n",
      "yearOfRegistration     50000 non-null int64\n",
      "gearbox                47320 non-null object\n",
      "powerPS                50000 non-null int64\n",
      "model                  47242 non-null object\n",
      "odometer               50000 non-null object\n",
      "monthOfRegistration    50000 non-null int64\n",
      "fuelType               45518 non-null object\n",
      "brand                  50000 non-null object\n",
      "notRepairedDamage      40171 non-null object\n",
      "dateCreated            50000 non-null object\n",
      "nrOfPictures           50000 non-null int64\n",
      "postalCode             50000 non-null int64\n",
      "lastSeen               50000 non-null object\n",
      "dtypes: int64(5), object(15)\n",
      "memory usage: 7.6+ MB\n"
     ]
    }
   ],
   "source": [
    "autos.info()"
   ]
  },
  {
   "cell_type": "code",
   "execution_count": 132,
   "metadata": {
    "collapsed": false,
    "scrolled": true
   },
   "outputs": [
    {
     "data": {
      "text/html": [
       "<div>\n",
       "<style scoped>\n",
       "    .dataframe tbody tr th:only-of-type {\n",
       "        vertical-align: middle;\n",
       "    }\n",
       "\n",
       "    .dataframe tbody tr th {\n",
       "        vertical-align: top;\n",
       "    }\n",
       "\n",
       "    .dataframe thead th {\n",
       "        text-align: right;\n",
       "    }\n",
       "</style>\n",
       "<table border=\"1\" class=\"dataframe\">\n",
       "  <thead>\n",
       "    <tr style=\"text-align: right;\">\n",
       "      <th></th>\n",
       "      <th>dateCrawled</th>\n",
       "      <th>name</th>\n",
       "      <th>seller</th>\n",
       "      <th>offerType</th>\n",
       "      <th>price</th>\n",
       "      <th>abtest</th>\n",
       "      <th>vehicleType</th>\n",
       "      <th>yearOfRegistration</th>\n",
       "      <th>gearbox</th>\n",
       "      <th>powerPS</th>\n",
       "      <th>model</th>\n",
       "      <th>odometer</th>\n",
       "      <th>monthOfRegistration</th>\n",
       "      <th>fuelType</th>\n",
       "      <th>brand</th>\n",
       "      <th>notRepairedDamage</th>\n",
       "      <th>dateCreated</th>\n",
       "      <th>nrOfPictures</th>\n",
       "      <th>postalCode</th>\n",
       "      <th>lastSeen</th>\n",
       "    </tr>\n",
       "  </thead>\n",
       "  <tbody>\n",
       "    <tr>\n",
       "      <th>0</th>\n",
       "      <td>2016-03-26 17:47:46</td>\n",
       "      <td>Peugeot_807_160_NAVTECH_ON_BOARD</td>\n",
       "      <td>privat</td>\n",
       "      <td>Angebot</td>\n",
       "      <td>$5,000</td>\n",
       "      <td>control</td>\n",
       "      <td>bus</td>\n",
       "      <td>2004</td>\n",
       "      <td>manuell</td>\n",
       "      <td>158</td>\n",
       "      <td>andere</td>\n",
       "      <td>150,000km</td>\n",
       "      <td>3</td>\n",
       "      <td>lpg</td>\n",
       "      <td>peugeot</td>\n",
       "      <td>nein</td>\n",
       "      <td>2016-03-26 00:00:00</td>\n",
       "      <td>0</td>\n",
       "      <td>79588</td>\n",
       "      <td>2016-04-06 06:45:54</td>\n",
       "    </tr>\n",
       "    <tr>\n",
       "      <th>1</th>\n",
       "      <td>2016-04-04 13:38:56</td>\n",
       "      <td>BMW_740i_4_4_Liter_HAMANN_UMBAU_Mega_Optik</td>\n",
       "      <td>privat</td>\n",
       "      <td>Angebot</td>\n",
       "      <td>$8,500</td>\n",
       "      <td>control</td>\n",
       "      <td>limousine</td>\n",
       "      <td>1997</td>\n",
       "      <td>automatik</td>\n",
       "      <td>286</td>\n",
       "      <td>7er</td>\n",
       "      <td>150,000km</td>\n",
       "      <td>6</td>\n",
       "      <td>benzin</td>\n",
       "      <td>bmw</td>\n",
       "      <td>nein</td>\n",
       "      <td>2016-04-04 00:00:00</td>\n",
       "      <td>0</td>\n",
       "      <td>71034</td>\n",
       "      <td>2016-04-06 14:45:08</td>\n",
       "    </tr>\n",
       "    <tr>\n",
       "      <th>2</th>\n",
       "      <td>2016-03-26 18:57:24</td>\n",
       "      <td>Volkswagen_Golf_1.6_United</td>\n",
       "      <td>privat</td>\n",
       "      <td>Angebot</td>\n",
       "      <td>$8,990</td>\n",
       "      <td>test</td>\n",
       "      <td>limousine</td>\n",
       "      <td>2009</td>\n",
       "      <td>manuell</td>\n",
       "      <td>102</td>\n",
       "      <td>golf</td>\n",
       "      <td>70,000km</td>\n",
       "      <td>7</td>\n",
       "      <td>benzin</td>\n",
       "      <td>volkswagen</td>\n",
       "      <td>nein</td>\n",
       "      <td>2016-03-26 00:00:00</td>\n",
       "      <td>0</td>\n",
       "      <td>35394</td>\n",
       "      <td>2016-04-06 20:15:37</td>\n",
       "    </tr>\n",
       "    <tr>\n",
       "      <th>3</th>\n",
       "      <td>2016-03-12 16:58:10</td>\n",
       "      <td>Smart_smart_fortwo_coupe_softouch/F1/Klima/Pan...</td>\n",
       "      <td>privat</td>\n",
       "      <td>Angebot</td>\n",
       "      <td>$4,350</td>\n",
       "      <td>control</td>\n",
       "      <td>kleinwagen</td>\n",
       "      <td>2007</td>\n",
       "      <td>automatik</td>\n",
       "      <td>71</td>\n",
       "      <td>fortwo</td>\n",
       "      <td>70,000km</td>\n",
       "      <td>6</td>\n",
       "      <td>benzin</td>\n",
       "      <td>smart</td>\n",
       "      <td>nein</td>\n",
       "      <td>2016-03-12 00:00:00</td>\n",
       "      <td>0</td>\n",
       "      <td>33729</td>\n",
       "      <td>2016-03-15 03:16:28</td>\n",
       "    </tr>\n",
       "    <tr>\n",
       "      <th>4</th>\n",
       "      <td>2016-04-01 14:38:50</td>\n",
       "      <td>Ford_Focus_1_6_Benzin_TÜV_neu_ist_sehr_gepfleg...</td>\n",
       "      <td>privat</td>\n",
       "      <td>Angebot</td>\n",
       "      <td>$1,350</td>\n",
       "      <td>test</td>\n",
       "      <td>kombi</td>\n",
       "      <td>2003</td>\n",
       "      <td>manuell</td>\n",
       "      <td>0</td>\n",
       "      <td>focus</td>\n",
       "      <td>150,000km</td>\n",
       "      <td>7</td>\n",
       "      <td>benzin</td>\n",
       "      <td>ford</td>\n",
       "      <td>nein</td>\n",
       "      <td>2016-04-01 00:00:00</td>\n",
       "      <td>0</td>\n",
       "      <td>39218</td>\n",
       "      <td>2016-04-01 14:38:50</td>\n",
       "    </tr>\n",
       "  </tbody>\n",
       "</table>\n",
       "</div>"
      ],
      "text/plain": [
       "           dateCrawled                                               name  \\\n",
       "0  2016-03-26 17:47:46                   Peugeot_807_160_NAVTECH_ON_BOARD   \n",
       "1  2016-04-04 13:38:56         BMW_740i_4_4_Liter_HAMANN_UMBAU_Mega_Optik   \n",
       "2  2016-03-26 18:57:24                         Volkswagen_Golf_1.6_United   \n",
       "3  2016-03-12 16:58:10  Smart_smart_fortwo_coupe_softouch/F1/Klima/Pan...   \n",
       "4  2016-04-01 14:38:50  Ford_Focus_1_6_Benzin_TÜV_neu_ist_sehr_gepfleg...   \n",
       "\n",
       "   seller offerType   price   abtest vehicleType  yearOfRegistration  \\\n",
       "0  privat   Angebot  $5,000  control         bus                2004   \n",
       "1  privat   Angebot  $8,500  control   limousine                1997   \n",
       "2  privat   Angebot  $8,990     test   limousine                2009   \n",
       "3  privat   Angebot  $4,350  control  kleinwagen                2007   \n",
       "4  privat   Angebot  $1,350     test       kombi                2003   \n",
       "\n",
       "     gearbox  powerPS   model   odometer  monthOfRegistration fuelType  \\\n",
       "0    manuell      158  andere  150,000km                    3      lpg   \n",
       "1  automatik      286     7er  150,000km                    6   benzin   \n",
       "2    manuell      102    golf   70,000km                    7   benzin   \n",
       "3  automatik       71  fortwo   70,000km                    6   benzin   \n",
       "4    manuell        0   focus  150,000km                    7   benzin   \n",
       "\n",
       "        brand notRepairedDamage          dateCreated  nrOfPictures  \\\n",
       "0     peugeot              nein  2016-03-26 00:00:00             0   \n",
       "1         bmw              nein  2016-04-04 00:00:00             0   \n",
       "2  volkswagen              nein  2016-03-26 00:00:00             0   \n",
       "3       smart              nein  2016-03-12 00:00:00             0   \n",
       "4        ford              nein  2016-04-01 00:00:00             0   \n",
       "\n",
       "   postalCode             lastSeen  \n",
       "0       79588  2016-04-06 06:45:54  \n",
       "1       71034  2016-04-06 14:45:08  \n",
       "2       35394  2016-04-06 20:15:37  \n",
       "3       33729  2016-03-15 03:16:28  \n",
       "4       39218  2016-04-01 14:38:50  "
      ]
     },
     "execution_count": 132,
     "metadata": {},
     "output_type": "execute_result"
    }
   ],
   "source": [
    "autos.head()"
   ]
  },
  {
   "cell_type": "code",
   "execution_count": 133,
   "metadata": {
    "collapsed": false
   },
   "outputs": [
    {
     "data": {
      "text/plain": [
       "dateCrawled               0\n",
       "name                      0\n",
       "seller                    0\n",
       "offerType                 0\n",
       "price                     0\n",
       "abtest                    0\n",
       "vehicleType            5095\n",
       "yearOfRegistration        0\n",
       "gearbox                2680\n",
       "powerPS                   0\n",
       "model                  2758\n",
       "odometer                  0\n",
       "monthOfRegistration       0\n",
       "fuelType               4482\n",
       "brand                     0\n",
       "notRepairedDamage      9829\n",
       "dateCreated               0\n",
       "nrOfPictures              0\n",
       "postalCode                0\n",
       "lastSeen                  0\n",
       "dtype: int64"
      ]
     },
     "execution_count": 133,
     "metadata": {},
     "output_type": "execute_result"
    }
   ],
   "source": [
    "autos.isnull().sum()"
   ]
  },
  {
   "cell_type": "markdown",
   "metadata": {},
   "source": [
    " - Dataset consists of 5000 rows and 20 columns where 5 columns are of integer type and rest are of object type.\n",
    " - If we look at the data, three columns are date time but are read as Object, also price is read as Object because of \\$ symbol. \n",
    " - Only five columns have missing values\n",
    " - Column names are listed in camelcase instead of snakecase."
   ]
  },
  {
   "cell_type": "code",
   "execution_count": 134,
   "metadata": {
    "collapsed": false
   },
   "outputs": [
    {
     "data": {
      "text/plain": [
       "Index(['dateCrawled', 'name', 'seller', 'offerType', 'price', 'abtest',\n",
       "       'vehicleType', 'yearOfRegistration', 'gearbox', 'powerPS', 'model',\n",
       "       'odometer', 'monthOfRegistration', 'fuelType', 'brand',\n",
       "       'notRepairedDamage', 'dateCreated', 'nrOfPictures', 'postalCode',\n",
       "       'lastSeen'],\n",
       "      dtype='object')"
      ]
     },
     "execution_count": 134,
     "metadata": {},
     "output_type": "execute_result"
    }
   ],
   "source": [
    "autos.columns"
   ]
  },
  {
   "cell_type": "code",
   "execution_count": 135,
   "metadata": {
    "collapsed": false
   },
   "outputs": [
    {
     "data": {
      "text/plain": [
       "Index(['date_crawled', 'name', 'seller', 'offer_type', 'price', 'ab_test',\n",
       "       'vehicle_type', 'registration_year', 'gear_box', 'power_ps', 'model',\n",
       "       'odometer', 'registration_month', 'fuel_type', 'brand',\n",
       "       'unrepaired_damage', 'ad_created', 'nr_of_pictures', 'postal_code',\n",
       "       'last_seen'],\n",
       "      dtype='object')"
      ]
     },
     "execution_count": 135,
     "metadata": {},
     "output_type": "execute_result"
    }
   ],
   "source": [
    "autos.columns = ['date_crawled', 'name', 'seller', 'offer_type', 'price', 'ab_test',\n",
    "       'vehicle_type', 'registration_year', 'gear_box', 'power_ps', 'model',\n",
    "       'odometer', 'registration_month', 'fuel_type', 'brand',\n",
    "       'unrepaired_damage', 'ad_created', 'nr_of_pictures', 'postal_code',\n",
    "       'last_seen']\n",
    "autos.columns"
   ]
  },
  {
   "cell_type": "markdown",
   "metadata": {},
   "source": [
    "#### I have renamed the columns by converting camelcase names to snakecase and have also modified few column names to make them short"
   ]
  },
  {
   "cell_type": "code",
   "execution_count": 136,
   "metadata": {
    "collapsed": false
   },
   "outputs": [
    {
     "data": {
      "text/html": [
       "<div>\n",
       "<style scoped>\n",
       "    .dataframe tbody tr th:only-of-type {\n",
       "        vertical-align: middle;\n",
       "    }\n",
       "\n",
       "    .dataframe tbody tr th {\n",
       "        vertical-align: top;\n",
       "    }\n",
       "\n",
       "    .dataframe thead th {\n",
       "        text-align: right;\n",
       "    }\n",
       "</style>\n",
       "<table border=\"1\" class=\"dataframe\">\n",
       "  <thead>\n",
       "    <tr style=\"text-align: right;\">\n",
       "      <th></th>\n",
       "      <th>date_crawled</th>\n",
       "      <th>name</th>\n",
       "      <th>seller</th>\n",
       "      <th>offer_type</th>\n",
       "      <th>price</th>\n",
       "      <th>ab_test</th>\n",
       "      <th>vehicle_type</th>\n",
       "      <th>registration_year</th>\n",
       "      <th>gear_box</th>\n",
       "      <th>power_ps</th>\n",
       "      <th>model</th>\n",
       "      <th>odometer</th>\n",
       "      <th>registration_month</th>\n",
       "      <th>fuel_type</th>\n",
       "      <th>brand</th>\n",
       "      <th>unrepaired_damage</th>\n",
       "      <th>ad_created</th>\n",
       "      <th>nr_of_pictures</th>\n",
       "      <th>postal_code</th>\n",
       "      <th>last_seen</th>\n",
       "    </tr>\n",
       "  </thead>\n",
       "  <tbody>\n",
       "    <tr>\n",
       "      <th>count</th>\n",
       "      <td>50000</td>\n",
       "      <td>50000</td>\n",
       "      <td>50000</td>\n",
       "      <td>50000</td>\n",
       "      <td>50000</td>\n",
       "      <td>50000</td>\n",
       "      <td>44905</td>\n",
       "      <td>50000.000000</td>\n",
       "      <td>47320</td>\n",
       "      <td>50000.000000</td>\n",
       "      <td>47242</td>\n",
       "      <td>50000</td>\n",
       "      <td>50000.000000</td>\n",
       "      <td>45518</td>\n",
       "      <td>50000</td>\n",
       "      <td>40171</td>\n",
       "      <td>50000</td>\n",
       "      <td>50000.0</td>\n",
       "      <td>50000.000000</td>\n",
       "      <td>50000</td>\n",
       "    </tr>\n",
       "    <tr>\n",
       "      <th>unique</th>\n",
       "      <td>48213</td>\n",
       "      <td>38754</td>\n",
       "      <td>2</td>\n",
       "      <td>2</td>\n",
       "      <td>2357</td>\n",
       "      <td>2</td>\n",
       "      <td>8</td>\n",
       "      <td>NaN</td>\n",
       "      <td>2</td>\n",
       "      <td>NaN</td>\n",
       "      <td>245</td>\n",
       "      <td>13</td>\n",
       "      <td>NaN</td>\n",
       "      <td>7</td>\n",
       "      <td>40</td>\n",
       "      <td>2</td>\n",
       "      <td>76</td>\n",
       "      <td>NaN</td>\n",
       "      <td>NaN</td>\n",
       "      <td>39481</td>\n",
       "    </tr>\n",
       "    <tr>\n",
       "      <th>top</th>\n",
       "      <td>2016-03-29 23:42:13</td>\n",
       "      <td>Ford_Fiesta</td>\n",
       "      <td>privat</td>\n",
       "      <td>Angebot</td>\n",
       "      <td>$0</td>\n",
       "      <td>test</td>\n",
       "      <td>limousine</td>\n",
       "      <td>NaN</td>\n",
       "      <td>manuell</td>\n",
       "      <td>NaN</td>\n",
       "      <td>golf</td>\n",
       "      <td>150,000km</td>\n",
       "      <td>NaN</td>\n",
       "      <td>benzin</td>\n",
       "      <td>volkswagen</td>\n",
       "      <td>nein</td>\n",
       "      <td>2016-04-03 00:00:00</td>\n",
       "      <td>NaN</td>\n",
       "      <td>NaN</td>\n",
       "      <td>2016-04-07 06:17:27</td>\n",
       "    </tr>\n",
       "    <tr>\n",
       "      <th>freq</th>\n",
       "      <td>3</td>\n",
       "      <td>78</td>\n",
       "      <td>49999</td>\n",
       "      <td>49999</td>\n",
       "      <td>1421</td>\n",
       "      <td>25756</td>\n",
       "      <td>12859</td>\n",
       "      <td>NaN</td>\n",
       "      <td>36993</td>\n",
       "      <td>NaN</td>\n",
       "      <td>4024</td>\n",
       "      <td>32424</td>\n",
       "      <td>NaN</td>\n",
       "      <td>30107</td>\n",
       "      <td>10687</td>\n",
       "      <td>35232</td>\n",
       "      <td>1946</td>\n",
       "      <td>NaN</td>\n",
       "      <td>NaN</td>\n",
       "      <td>8</td>\n",
       "    </tr>\n",
       "    <tr>\n",
       "      <th>mean</th>\n",
       "      <td>NaN</td>\n",
       "      <td>NaN</td>\n",
       "      <td>NaN</td>\n",
       "      <td>NaN</td>\n",
       "      <td>NaN</td>\n",
       "      <td>NaN</td>\n",
       "      <td>NaN</td>\n",
       "      <td>2005.073280</td>\n",
       "      <td>NaN</td>\n",
       "      <td>116.355920</td>\n",
       "      <td>NaN</td>\n",
       "      <td>NaN</td>\n",
       "      <td>5.723360</td>\n",
       "      <td>NaN</td>\n",
       "      <td>NaN</td>\n",
       "      <td>NaN</td>\n",
       "      <td>NaN</td>\n",
       "      <td>0.0</td>\n",
       "      <td>50813.627300</td>\n",
       "      <td>NaN</td>\n",
       "    </tr>\n",
       "    <tr>\n",
       "      <th>std</th>\n",
       "      <td>NaN</td>\n",
       "      <td>NaN</td>\n",
       "      <td>NaN</td>\n",
       "      <td>NaN</td>\n",
       "      <td>NaN</td>\n",
       "      <td>NaN</td>\n",
       "      <td>NaN</td>\n",
       "      <td>105.712813</td>\n",
       "      <td>NaN</td>\n",
       "      <td>209.216627</td>\n",
       "      <td>NaN</td>\n",
       "      <td>NaN</td>\n",
       "      <td>3.711984</td>\n",
       "      <td>NaN</td>\n",
       "      <td>NaN</td>\n",
       "      <td>NaN</td>\n",
       "      <td>NaN</td>\n",
       "      <td>0.0</td>\n",
       "      <td>25779.747957</td>\n",
       "      <td>NaN</td>\n",
       "    </tr>\n",
       "    <tr>\n",
       "      <th>min</th>\n",
       "      <td>NaN</td>\n",
       "      <td>NaN</td>\n",
       "      <td>NaN</td>\n",
       "      <td>NaN</td>\n",
       "      <td>NaN</td>\n",
       "      <td>NaN</td>\n",
       "      <td>NaN</td>\n",
       "      <td>1000.000000</td>\n",
       "      <td>NaN</td>\n",
       "      <td>0.000000</td>\n",
       "      <td>NaN</td>\n",
       "      <td>NaN</td>\n",
       "      <td>0.000000</td>\n",
       "      <td>NaN</td>\n",
       "      <td>NaN</td>\n",
       "      <td>NaN</td>\n",
       "      <td>NaN</td>\n",
       "      <td>0.0</td>\n",
       "      <td>1067.000000</td>\n",
       "      <td>NaN</td>\n",
       "    </tr>\n",
       "    <tr>\n",
       "      <th>25%</th>\n",
       "      <td>NaN</td>\n",
       "      <td>NaN</td>\n",
       "      <td>NaN</td>\n",
       "      <td>NaN</td>\n",
       "      <td>NaN</td>\n",
       "      <td>NaN</td>\n",
       "      <td>NaN</td>\n",
       "      <td>1999.000000</td>\n",
       "      <td>NaN</td>\n",
       "      <td>70.000000</td>\n",
       "      <td>NaN</td>\n",
       "      <td>NaN</td>\n",
       "      <td>3.000000</td>\n",
       "      <td>NaN</td>\n",
       "      <td>NaN</td>\n",
       "      <td>NaN</td>\n",
       "      <td>NaN</td>\n",
       "      <td>0.0</td>\n",
       "      <td>30451.000000</td>\n",
       "      <td>NaN</td>\n",
       "    </tr>\n",
       "    <tr>\n",
       "      <th>50%</th>\n",
       "      <td>NaN</td>\n",
       "      <td>NaN</td>\n",
       "      <td>NaN</td>\n",
       "      <td>NaN</td>\n",
       "      <td>NaN</td>\n",
       "      <td>NaN</td>\n",
       "      <td>NaN</td>\n",
       "      <td>2003.000000</td>\n",
       "      <td>NaN</td>\n",
       "      <td>105.000000</td>\n",
       "      <td>NaN</td>\n",
       "      <td>NaN</td>\n",
       "      <td>6.000000</td>\n",
       "      <td>NaN</td>\n",
       "      <td>NaN</td>\n",
       "      <td>NaN</td>\n",
       "      <td>NaN</td>\n",
       "      <td>0.0</td>\n",
       "      <td>49577.000000</td>\n",
       "      <td>NaN</td>\n",
       "    </tr>\n",
       "    <tr>\n",
       "      <th>75%</th>\n",
       "      <td>NaN</td>\n",
       "      <td>NaN</td>\n",
       "      <td>NaN</td>\n",
       "      <td>NaN</td>\n",
       "      <td>NaN</td>\n",
       "      <td>NaN</td>\n",
       "      <td>NaN</td>\n",
       "      <td>2008.000000</td>\n",
       "      <td>NaN</td>\n",
       "      <td>150.000000</td>\n",
       "      <td>NaN</td>\n",
       "      <td>NaN</td>\n",
       "      <td>9.000000</td>\n",
       "      <td>NaN</td>\n",
       "      <td>NaN</td>\n",
       "      <td>NaN</td>\n",
       "      <td>NaN</td>\n",
       "      <td>0.0</td>\n",
       "      <td>71540.000000</td>\n",
       "      <td>NaN</td>\n",
       "    </tr>\n",
       "    <tr>\n",
       "      <th>max</th>\n",
       "      <td>NaN</td>\n",
       "      <td>NaN</td>\n",
       "      <td>NaN</td>\n",
       "      <td>NaN</td>\n",
       "      <td>NaN</td>\n",
       "      <td>NaN</td>\n",
       "      <td>NaN</td>\n",
       "      <td>9999.000000</td>\n",
       "      <td>NaN</td>\n",
       "      <td>17700.000000</td>\n",
       "      <td>NaN</td>\n",
       "      <td>NaN</td>\n",
       "      <td>12.000000</td>\n",
       "      <td>NaN</td>\n",
       "      <td>NaN</td>\n",
       "      <td>NaN</td>\n",
       "      <td>NaN</td>\n",
       "      <td>0.0</td>\n",
       "      <td>99998.000000</td>\n",
       "      <td>NaN</td>\n",
       "    </tr>\n",
       "  </tbody>\n",
       "</table>\n",
       "</div>"
      ],
      "text/plain": [
       "               date_crawled         name  seller offer_type  price ab_test  \\\n",
       "count                 50000        50000   50000      50000  50000   50000   \n",
       "unique                48213        38754       2          2   2357       2   \n",
       "top     2016-03-29 23:42:13  Ford_Fiesta  privat    Angebot     $0    test   \n",
       "freq                      3           78   49999      49999   1421   25756   \n",
       "mean                    NaN          NaN     NaN        NaN    NaN     NaN   \n",
       "std                     NaN          NaN     NaN        NaN    NaN     NaN   \n",
       "min                     NaN          NaN     NaN        NaN    NaN     NaN   \n",
       "25%                     NaN          NaN     NaN        NaN    NaN     NaN   \n",
       "50%                     NaN          NaN     NaN        NaN    NaN     NaN   \n",
       "75%                     NaN          NaN     NaN        NaN    NaN     NaN   \n",
       "max                     NaN          NaN     NaN        NaN    NaN     NaN   \n",
       "\n",
       "       vehicle_type  registration_year gear_box      power_ps  model  \\\n",
       "count         44905       50000.000000    47320  50000.000000  47242   \n",
       "unique            8                NaN        2           NaN    245   \n",
       "top       limousine                NaN  manuell           NaN   golf   \n",
       "freq          12859                NaN    36993           NaN   4024   \n",
       "mean            NaN        2005.073280      NaN    116.355920    NaN   \n",
       "std             NaN         105.712813      NaN    209.216627    NaN   \n",
       "min             NaN        1000.000000      NaN      0.000000    NaN   \n",
       "25%             NaN        1999.000000      NaN     70.000000    NaN   \n",
       "50%             NaN        2003.000000      NaN    105.000000    NaN   \n",
       "75%             NaN        2008.000000      NaN    150.000000    NaN   \n",
       "max             NaN        9999.000000      NaN  17700.000000    NaN   \n",
       "\n",
       "         odometer  registration_month fuel_type       brand unrepaired_damage  \\\n",
       "count       50000        50000.000000     45518       50000             40171   \n",
       "unique         13                 NaN         7          40                 2   \n",
       "top     150,000km                 NaN    benzin  volkswagen              nein   \n",
       "freq        32424                 NaN     30107       10687             35232   \n",
       "mean          NaN            5.723360       NaN         NaN               NaN   \n",
       "std           NaN            3.711984       NaN         NaN               NaN   \n",
       "min           NaN            0.000000       NaN         NaN               NaN   \n",
       "25%           NaN            3.000000       NaN         NaN               NaN   \n",
       "50%           NaN            6.000000       NaN         NaN               NaN   \n",
       "75%           NaN            9.000000       NaN         NaN               NaN   \n",
       "max           NaN           12.000000       NaN         NaN               NaN   \n",
       "\n",
       "                 ad_created  nr_of_pictures   postal_code            last_seen  \n",
       "count                 50000         50000.0  50000.000000                50000  \n",
       "unique                   76             NaN           NaN                39481  \n",
       "top     2016-04-03 00:00:00             NaN           NaN  2016-04-07 06:17:27  \n",
       "freq                   1946             NaN           NaN                    8  \n",
       "mean                    NaN             0.0  50813.627300                  NaN  \n",
       "std                     NaN             0.0  25779.747957                  NaN  \n",
       "min                     NaN             0.0   1067.000000                  NaN  \n",
       "25%                     NaN             0.0  30451.000000                  NaN  \n",
       "50%                     NaN             0.0  49577.000000                  NaN  \n",
       "75%                     NaN             0.0  71540.000000                  NaN  \n",
       "max                     NaN             0.0  99998.000000                  NaN  "
      ]
     },
     "execution_count": 136,
     "metadata": {},
     "output_type": "execute_result"
    }
   ],
   "source": [
    "autos.describe(include=\"all\")"
   ]
  },
  {
   "cell_type": "code",
   "execution_count": 137,
   "metadata": {
    "collapsed": false
   },
   "outputs": [
    {
     "data": {
      "text/plain": [
       "0    $5,000\n",
       "1    $8,500\n",
       "2    $8,990\n",
       "3    $4,350\n",
       "4    $1,350\n",
       "Name: price, dtype: object"
      ]
     },
     "execution_count": 137,
     "metadata": {},
     "output_type": "execute_result"
    }
   ],
   "source": [
    "autos['price'].head()"
   ]
  },
  {
   "cell_type": "markdown",
   "metadata": {},
   "source": [
    "#### Let's first fix the price column by \n",
    " - removing the dollar sign and ,\n",
    " - changing the data type of column to float\n",
    " - renaming the column to indicate that prices are given in dollar\n"
   ]
  },
  {
   "cell_type": "code",
   "execution_count": 138,
   "metadata": {
    "collapsed": false
   },
   "outputs": [],
   "source": [
    "autos['price'] = autos['price'].str.replace(\"$\",\"\").str.replace(\",\",\"\").astype(float)\n",
    "autos.rename({'price':'price_$'}, axis=1, inplace=True)"
   ]
  },
  {
   "cell_type": "code",
   "execution_count": 139,
   "metadata": {
    "collapsed": false
   },
   "outputs": [
    {
     "data": {
      "text/plain": [
       "0    5000.0\n",
       "1    8500.0\n",
       "2    8990.0\n",
       "3    4350.0\n",
       "4    1350.0\n",
       "Name: price_$, dtype: float64"
      ]
     },
     "execution_count": 139,
     "metadata": {},
     "output_type": "execute_result"
    }
   ],
   "source": [
    "autos['price_$'].head()"
   ]
  },
  {
   "cell_type": "markdown",
   "metadata": {},
   "source": [
    "#### we can see that all the above operations have been successfully performed. Now we can see the mean and median prices, which we couldn't see earlier due to the datatype of the price column"
   ]
  },
  {
   "cell_type": "code",
   "execution_count": 140,
   "metadata": {
    "collapsed": false
   },
   "outputs": [
    {
     "data": {
      "text/plain": [
       "count    5.000000e+04\n",
       "mean     9.840044e+03\n",
       "std      4.811044e+05\n",
       "min      0.000000e+00\n",
       "25%      1.100000e+03\n",
       "50%      2.950000e+03\n",
       "75%      7.200000e+03\n",
       "max      1.000000e+08\n",
       "Name: price_$, dtype: float64"
      ]
     },
     "execution_count": 140,
     "metadata": {},
     "output_type": "execute_result"
    }
   ],
   "source": [
    "autos['price_$'].describe()"
   ]
  },
  {
   "cell_type": "markdown",
   "metadata": {},
   "source": [
    "#### we see that minimum price is 0 wich seems unrealistics, so we explore this column more to identify and remove outliers"
   ]
  },
  {
   "cell_type": "code",
   "execution_count": 141,
   "metadata": {
    "collapsed": false
   },
   "outputs": [
    {
     "data": {
      "text/plain": [
       "0.0           1421\n",
       "500.0          781\n",
       "1500.0         734\n",
       "2500.0         643\n",
       "1200.0         639\n",
       "1000.0         639\n",
       "600.0          531\n",
       "800.0          498\n",
       "3500.0         498\n",
       "2000.0         460\n",
       "999.0          434\n",
       "750.0          433\n",
       "900.0          420\n",
       "650.0          419\n",
       "850.0          410\n",
       "700.0          395\n",
       "4500.0         394\n",
       "300.0          384\n",
       "2200.0         382\n",
       "950.0          379\n",
       "1100.0         376\n",
       "1300.0         371\n",
       "3000.0         365\n",
       "550.0          356\n",
       "1800.0         355\n",
       "5500.0         340\n",
       "1250.0         335\n",
       "350.0          335\n",
       "1600.0         327\n",
       "1999.0         322\n",
       "              ... \n",
       "2225.0           1\n",
       "69997.0          1\n",
       "139997.0         1\n",
       "69999.0          1\n",
       "4780.0           1\n",
       "8930.0           1\n",
       "21599.0          1\n",
       "15911.0          1\n",
       "10000000.0       1\n",
       "5180.0           1\n",
       "919.0            1\n",
       "1247.0           1\n",
       "5998.0           1\n",
       "27020.0          1\n",
       "21888.0          1\n",
       "46500.0          1\n",
       "2001.0           1\n",
       "2459.0           1\n",
       "345000.0         1\n",
       "34940.0          1\n",
       "2785.0           1\n",
       "5248.0           1\n",
       "310.0            1\n",
       "3129.0           1\n",
       "69900.0          1\n",
       "6202.0           1\n",
       "18310.0          1\n",
       "898.0            1\n",
       "11240.0          1\n",
       "789.0            1\n",
       "Name: price_$, Length: 2357, dtype: int64"
      ]
     },
     "execution_count": 141,
     "metadata": {},
     "output_type": "execute_result"
    }
   ],
   "source": [
    "autos['price_$'].value_counts()"
   ]
  },
  {
   "cell_type": "markdown",
   "metadata": {},
   "source": [
    "#### 1421 instances have price=0, also one instance has price=10000000 which seems too high for a used car."
   ]
  },
  {
   "cell_type": "markdown",
   "metadata": {},
   "source": [
    "#### Another column odometer, also has distance measurements, is of Object datatype. We perform following operations on odometer:\n",
    " - remove the km and comma from column values\n",
    " - change the datatype of column to float\n",
    " - rename the column to odometer_km to indicate the unit of values\n"
   ]
  },
  {
   "cell_type": "code",
   "execution_count": 142,
   "metadata": {
    "collapsed": false
   },
   "outputs": [
    {
     "data": {
      "text/plain": [
       "count     50000.000000\n",
       "mean     125732.700000\n",
       "std       40042.211706\n",
       "min        5000.000000\n",
       "25%      125000.000000\n",
       "50%      150000.000000\n",
       "75%      150000.000000\n",
       "max      150000.000000\n",
       "Name: odometer_km, dtype: float64"
      ]
     },
     "execution_count": 142,
     "metadata": {},
     "output_type": "execute_result"
    }
   ],
   "source": [
    "autos['odometer'] = autos['odometer'].str.replace(\"km\",\"\").str.replace(\",\",\"\").astype(float)\n",
    "autos.rename({'odometer':'odometer_km'}, axis=1, inplace=True)\n",
    "autos['odometer_km'].describe()"
   ]
  },
  {
   "cell_type": "markdown",
   "metadata": {},
   "source": [
    "#### all date time columns are of string datatype, we convert them to datetime datatype"
   ]
  },
  {
   "cell_type": "code",
   "execution_count": 143,
   "metadata": {
    "collapsed": false,
    "scrolled": true
   },
   "outputs": [
    {
     "data": {
      "text/plain": [
       "date_crawled          datetime64[ns]\n",
       "name                          object\n",
       "seller                        object\n",
       "offer_type                    object\n",
       "price_$                      float64\n",
       "ab_test                       object\n",
       "vehicle_type                  object\n",
       "registration_year              int64\n",
       "gear_box                      object\n",
       "power_ps                       int64\n",
       "model                         object\n",
       "odometer_km                  float64\n",
       "registration_month             int64\n",
       "fuel_type                     object\n",
       "brand                         object\n",
       "unrepaired_damage             object\n",
       "ad_created            datetime64[ns]\n",
       "nr_of_pictures                 int64\n",
       "postal_code                    int64\n",
       "last_seen             datetime64[ns]\n",
       "dtype: object"
      ]
     },
     "execution_count": 143,
     "metadata": {},
     "output_type": "execute_result"
    }
   ],
   "source": [
    "autos['date_crawled'] = pd.to_datetime(autos['date_crawled'])\n",
    "autos['ad_created'] = pd.to_datetime(autos['ad_created'])\n",
    "autos['last_seen'] = pd.to_datetime(autos['last_seen'])\n",
    "autos.dtypes"
   ]
  },
  {
   "cell_type": "markdown",
   "metadata": {},
   "source": [
    "#### we can easily explore these date time columns, lets see which brands were put on sale in 4th month of 2016 and also count of each brand cars"
   ]
  },
  {
   "cell_type": "code",
   "execution_count": 144,
   "metadata": {
    "collapsed": false,
    "scrolled": true
   },
   "outputs": [
    {
     "data": {
      "text/plain": [
       "volkswagen        343\n",
       "bmw               190\n",
       "opel              187\n",
       "mercedes_benz     160\n",
       "audi              158\n",
       "ford              126\n",
       "renault            71\n",
       "peugeot            50\n",
       "fiat               41\n",
       "seat               35\n",
       "smart              27\n",
       "toyota             27\n",
       "sonstige_autos     27\n",
       "nissan             25\n",
       "citroen            23\n",
       "skoda              23\n",
       "mazda              20\n",
       "porsche            15\n",
       "alfa_romeo         14\n",
       "mini               14\n",
       "hyundai            12\n",
       "mitsubishi         12\n",
       "honda              11\n",
       "jeep               10\n",
       "chevrolet          10\n",
       "suzuki             10\n",
       "kia                 9\n",
       "volvo               8\n",
       "dacia               8\n",
       "chrysler            5\n",
       "daihatsu            5\n",
       "trabant             3\n",
       "subaru              3\n",
       "lada                2\n",
       "jaguar              2\n",
       "daewoo              1\n",
       "lancia              1\n",
       "saab                1\n",
       "rover               1\n",
       "Name: brand, dtype: int64"
      ]
     },
     "execution_count": 144,
     "metadata": {},
     "output_type": "execute_result"
    }
   ],
   "source": [
    "autos.loc[autos['ad_created'] == '2016-04', 'brand'].value_counts()"
   ]
  },
  {
   "cell_type": "code",
   "execution_count": 145,
   "metadata": {
    "collapsed": false
   },
   "outputs": [
    {
     "data": {
      "text/plain": [
       "count    50000.000000\n",
       "mean      2005.073280\n",
       "std        105.712813\n",
       "min       1000.000000\n",
       "25%       1999.000000\n",
       "50%       2003.000000\n",
       "75%       2008.000000\n",
       "max       9999.000000\n",
       "Name: registration_year, dtype: float64"
      ]
     },
     "execution_count": 145,
     "metadata": {},
     "output_type": "execute_result"
    }
   ],
   "source": [
    "autos['registration_year'].describe()"
   ]
  },
  {
   "cell_type": "markdown",
   "metadata": {},
   "source": [
    "#### we can see minimum year is long before car was invented. also 9999 is many years into future. since car was invented in 1886 and was sold to public many years later, it would be safe to remove dates before 1900 and after 2016, because a car can't be first registered after the listing was seen."
   ]
  },
  {
   "cell_type": "code",
   "execution_count": 146,
   "metadata": {
    "collapsed": false
   },
   "outputs": [
    {
     "data": {
      "text/plain": [
       "2000    0.069834\n",
       "2005    0.062776\n",
       "1999    0.062464\n",
       "2004    0.056988\n",
       "2003    0.056779\n",
       "2006    0.056384\n",
       "2001    0.056280\n",
       "2002    0.052740\n",
       "1998    0.051074\n",
       "2007    0.047972\n",
       "2008    0.046452\n",
       "2009    0.043683\n",
       "1997    0.042225\n",
       "2011    0.034022\n",
       "2010    0.033251\n",
       "1996    0.030066\n",
       "2012    0.027546\n",
       "2016    0.027401\n",
       "1995    0.027338\n",
       "2013    0.016782\n",
       "2014    0.013867\n",
       "1994    0.013742\n",
       "1993    0.009265\n",
       "2015    0.008308\n",
       "1990    0.008224\n",
       "1992    0.008141\n",
       "1991    0.007412\n",
       "1989    0.003769\n",
       "1988    0.002957\n",
       "1985    0.002186\n",
       "          ...   \n",
       "1966    0.000458\n",
       "1977    0.000458\n",
       "1975    0.000396\n",
       "1969    0.000396\n",
       "1965    0.000354\n",
       "1964    0.000250\n",
       "1910    0.000187\n",
       "1963    0.000187\n",
       "1959    0.000146\n",
       "1961    0.000125\n",
       "1956    0.000104\n",
       "1958    0.000083\n",
       "1937    0.000083\n",
       "1962    0.000083\n",
       "1950    0.000062\n",
       "1954    0.000042\n",
       "1941    0.000042\n",
       "1934    0.000042\n",
       "1957    0.000042\n",
       "1951    0.000042\n",
       "1955    0.000042\n",
       "1931    0.000021\n",
       "1953    0.000021\n",
       "1943    0.000021\n",
       "1938    0.000021\n",
       "1939    0.000021\n",
       "1927    0.000021\n",
       "1929    0.000021\n",
       "1948    0.000021\n",
       "1952    0.000021\n",
       "Name: registration_year, Length: 78, dtype: float64"
      ]
     },
     "execution_count": 146,
     "metadata": {},
     "output_type": "execute_result"
    }
   ],
   "source": [
    "autos = autos[autos['registration_year'].between(1900, 2016)]\n",
    "autos['registration_year'].value_counts(normalize=True)"
   ]
  },
  {
   "cell_type": "code",
   "execution_count": 147,
   "metadata": {
    "collapsed": false
   },
   "outputs": [
    {
     "data": {
      "text/plain": [
       "array([ 3,  6,  7,  4,  8, 12, 10,  0,  9, 11,  5,  2,  1])"
      ]
     },
     "execution_count": 147,
     "metadata": {},
     "output_type": "execute_result"
    }
   ],
   "source": [
    "autos['registration_month'].unique()"
   ]
  },
  {
   "cell_type": "markdown",
   "metadata": {},
   "source": [
    "#### since 0 is not a valid month so we remove rows with 0 value of registration month"
   ]
  },
  {
   "cell_type": "code",
   "execution_count": 148,
   "metadata": {
    "collapsed": false
   },
   "outputs": [
    {
     "data": {
      "text/plain": [
       "array([ 3,  6,  7,  4,  8, 12, 10,  9, 11,  5,  2,  1])"
      ]
     },
     "execution_count": 148,
     "metadata": {},
     "output_type": "execute_result"
    }
   ],
   "source": [
    "autos = autos[~(autos['registration_month'] == 0)]\n",
    "autos['registration_month'].unique()"
   ]
  },
  {
   "cell_type": "markdown",
   "metadata": {
    "collapsed": true
   },
   "source": [
    "### Data aggregation"
   ]
  },
  {
   "cell_type": "code",
   "execution_count": 149,
   "metadata": {
    "collapsed": false
   },
   "outputs": [
    {
     "data": {
      "text/plain": [
       "brand\n",
       "volkswagen       9062\n",
       "bmw              4874\n",
       "opel             4538\n",
       "mercedes_benz    4309\n",
       "audi             3822\n",
       "Name: date_crawled, dtype: int64"
      ]
     },
     "execution_count": 149,
     "metadata": {},
     "output_type": "execute_result"
    }
   ],
   "source": [
    "brands_count = autos.groupby('brand').count().sort_values('date_crawled', ascending=False)['date_crawled']\n",
    "brands_count.iloc[:5]"
   ]
  },
  {
   "cell_type": "markdown",
   "metadata": {},
   "source": [
    "#### we can see that top five brands in terms of number of cars are: volkswagen, bmw, opel, mercedes_benz, audi."
   ]
  },
  {
   "cell_type": "markdown",
   "metadata": {},
   "source": [
    "#### Now we will see the brands with highest mean price"
   ]
  },
  {
   "cell_type": "code",
   "execution_count": 150,
   "metadata": {
    "collapsed": false
   },
   "outputs": [
    {
     "data": {
      "text/plain": [
       "brand\n",
       "sonstige_autos    49574.985612\n",
       "citroen           49367.853333\n",
       "porsche           46796.678700\n",
       "mercedes_benz     31976.597122\n",
       "land_rover        19685.956989\n",
       "jeep              12049.049505\n",
       "jaguar            11925.314286\n",
       "mini              10664.569652\n",
       "audi               9604.788069\n",
       "bmw                8734.987485\n",
       "ford               7970.843361\n",
       "chevrolet          6753.270161\n",
       "skoda              6542.939726\n",
       "dacia              5967.457627\n",
       "kia                5949.240854\n",
       "volkswagen         5859.364268\n",
       "opel               5813.696342\n",
       "hyundai            5550.663636\n",
       "toyota             5227.741710\n",
       "volvo              5008.017327\n",
       "nissan             4895.949102\n",
       "seat               4494.374372\n",
       "honda              4289.222874\n",
       "mazda              4269.382126\n",
       "subaru             4257.516854\n",
       "alfa_romeo         4205.515789\n",
       "suzuki             4195.444444\n",
       "smart              3676.553226\n",
       "mitsubishi         3563.730435\n",
       "chrysler           3373.943038\n",
       "saab               3329.410959\n",
       "peugeot            3184.098069\n",
       "lancia             3112.477273\n",
       "fiat               2892.084914\n",
       "lada               2599.750000\n",
       "renault            2548.234889\n",
       "trabant            2237.931818\n",
       "daihatsu           1693.567308\n",
       "rover              1677.052632\n",
       "daewoo             1072.000000\n",
       "Name: price_$, dtype: float64"
      ]
     },
     "execution_count": 150,
     "metadata": {},
     "output_type": "execute_result"
    }
   ],
   "source": [
    "brands_mean_price = autos.groupby('brand').mean()['price_$'].sort_values(ascending=False)\n",
    "brands_mean_price"
   ]
  },
  {
   "cell_type": "code",
   "execution_count": 151,
   "metadata": {
    "collapsed": false
   },
   "outputs": [
    {
     "data": {
      "text/plain": [
       "(40,)"
      ]
     },
     "execution_count": 151,
     "metadata": {},
     "output_type": "execute_result"
    }
   ],
   "source": [
    "brands_mean_price.shape"
   ]
  },
  {
   "cell_type": "markdown",
   "metadata": {},
   "source": [
    "#### 'sonstige_autos' has highest mean price among 40 brands. we can also see the mean price of top 5 most frequent brands"
   ]
  },
  {
   "cell_type": "code",
   "execution_count": 152,
   "metadata": {
    "collapsed": false
   },
   "outputs": [
    {
     "data": {
      "text/plain": [
       "brand\n",
       "volkswagen        5859.364268\n",
       "bmw               8734.987485\n",
       "opel              5813.696342\n",
       "mercedes_benz    31976.597122\n",
       "audi              9604.788069\n",
       "Name: price_$, dtype: float64"
      ]
     },
     "execution_count": 152,
     "metadata": {},
     "output_type": "execute_result"
    }
   ],
   "source": [
    "brands_mean_price.loc[['volkswagen', 'bmw', 'opel', 'mercedes_benz', 'audi']]"
   ]
  },
  {
   "cell_type": "markdown",
   "metadata": {},
   "source": [
    "#### we can also save mean prices for each brand as dictionary"
   ]
  },
  {
   "cell_type": "code",
   "execution_count": 153,
   "metadata": {
    "collapsed": false
   },
   "outputs": [
    {
     "data": {
      "text/plain": [
       "{'alfa_romeo': 4205.515789473684,\n",
       " 'audi': 9604.788069073784,\n",
       " 'bmw': 8734.987484612227,\n",
       " 'chevrolet': 6753.270161290323,\n",
       " 'chrysler': 3373.9430379746836,\n",
       " 'citroen': 49367.85333333333,\n",
       " 'dacia': 5967.457627118644,\n",
       " 'daewoo': 1072.0,\n",
       " 'daihatsu': 1693.5673076923076,\n",
       " 'fiat': 2892.084914182475,\n",
       " 'ford': 7970.843361344538,\n",
       " 'honda': 4289.222873900293,\n",
       " 'hyundai': 5550.663636363636,\n",
       " 'jaguar': 11925.314285714287,\n",
       " 'jeep': 12049.049504950495,\n",
       " 'kia': 5949.240853658536,\n",
       " 'lada': 2599.75,\n",
       " 'lancia': 3112.4772727272725,\n",
       " 'land_rover': 19685.956989247312,\n",
       " 'mazda': 4269.382126348228,\n",
       " 'mercedes_benz': 31976.59712230216,\n",
       " 'mini': 10664.569651741294,\n",
       " 'mitsubishi': 3563.730434782609,\n",
       " 'nissan': 4895.949101796407,\n",
       " 'opel': 5813.6963420008815,\n",
       " 'peugeot': 3184.0980694980694,\n",
       " 'porsche': 46796.67870036101,\n",
       " 'renault': 2548.2348894348893,\n",
       " 'rover': 1677.0526315789473,\n",
       " 'saab': 3329.4109589041095,\n",
       " 'seat': 4494.374371859297,\n",
       " 'skoda': 6542.939726027397,\n",
       " 'smart': 3676.553225806452,\n",
       " 'sonstige_autos': 49574.98561151079,\n",
       " 'subaru': 4257.516853932584,\n",
       " 'suzuki': 4195.444444444444,\n",
       " 'toyota': 5227.741710296684,\n",
       " 'trabant': 2237.931818181818,\n",
       " 'volkswagen': 5859.364268373428,\n",
       " 'volvo': 5008.017326732674}"
      ]
     },
     "execution_count": 153,
     "metadata": {},
     "output_type": "execute_result"
    }
   ],
   "source": [
    "brands_mean_price.to_dict()"
   ]
  },
  {
   "cell_type": "code",
   "execution_count": 154,
   "metadata": {
    "collapsed": false
   },
   "outputs": [
    {
     "data": {
      "text/html": [
       "<div>\n",
       "<style scoped>\n",
       "    .dataframe tbody tr th:only-of-type {\n",
       "        vertical-align: middle;\n",
       "    }\n",
       "\n",
       "    .dataframe tbody tr th {\n",
       "        vertical-align: top;\n",
       "    }\n",
       "\n",
       "    .dataframe thead th {\n",
       "        text-align: right;\n",
       "    }\n",
       "</style>\n",
       "<table border=\"1\" class=\"dataframe\">\n",
       "  <thead>\n",
       "    <tr style=\"text-align: right;\">\n",
       "      <th></th>\n",
       "      <th>count</th>\n",
       "      <th>mean_price</th>\n",
       "    </tr>\n",
       "  </thead>\n",
       "  <tbody>\n",
       "    <tr>\n",
       "      <th>sonstige_autos</th>\n",
       "      <td>417</td>\n",
       "      <td>49574.985612</td>\n",
       "    </tr>\n",
       "    <tr>\n",
       "      <th>citroen</th>\n",
       "      <td>600</td>\n",
       "      <td>49367.853333</td>\n",
       "    </tr>\n",
       "    <tr>\n",
       "      <th>porsche</th>\n",
       "      <td>277</td>\n",
       "      <td>46796.678700</td>\n",
       "    </tr>\n",
       "    <tr>\n",
       "      <th>mercedes_benz</th>\n",
       "      <td>4309</td>\n",
       "      <td>31976.597122</td>\n",
       "    </tr>\n",
       "    <tr>\n",
       "      <th>land_rover</th>\n",
       "      <td>93</td>\n",
       "      <td>19685.956989</td>\n",
       "    </tr>\n",
       "    <tr>\n",
       "      <th>jeep</th>\n",
       "      <td>101</td>\n",
       "      <td>12049.049505</td>\n",
       "    </tr>\n",
       "    <tr>\n",
       "      <th>jaguar</th>\n",
       "      <td>70</td>\n",
       "      <td>11925.314286</td>\n",
       "    </tr>\n",
       "    <tr>\n",
       "      <th>mini</th>\n",
       "      <td>402</td>\n",
       "      <td>10664.569652</td>\n",
       "    </tr>\n",
       "    <tr>\n",
       "      <th>audi</th>\n",
       "      <td>3822</td>\n",
       "      <td>9604.788069</td>\n",
       "    </tr>\n",
       "    <tr>\n",
       "      <th>bmw</th>\n",
       "      <td>4874</td>\n",
       "      <td>8734.987485</td>\n",
       "    </tr>\n",
       "    <tr>\n",
       "      <th>ford</th>\n",
       "      <td>2975</td>\n",
       "      <td>7970.843361</td>\n",
       "    </tr>\n",
       "    <tr>\n",
       "      <th>chevrolet</th>\n",
       "      <td>248</td>\n",
       "      <td>6753.270161</td>\n",
       "    </tr>\n",
       "    <tr>\n",
       "      <th>skoda</th>\n",
       "      <td>730</td>\n",
       "      <td>6542.939726</td>\n",
       "    </tr>\n",
       "    <tr>\n",
       "      <th>dacia</th>\n",
       "      <td>118</td>\n",
       "      <td>5967.457627</td>\n",
       "    </tr>\n",
       "    <tr>\n",
       "      <th>kia</th>\n",
       "      <td>328</td>\n",
       "      <td>5949.240854</td>\n",
       "    </tr>\n",
       "    <tr>\n",
       "      <th>volkswagen</th>\n",
       "      <td>9062</td>\n",
       "      <td>5859.364268</td>\n",
       "    </tr>\n",
       "    <tr>\n",
       "      <th>opel</th>\n",
       "      <td>4538</td>\n",
       "      <td>5813.696342</td>\n",
       "    </tr>\n",
       "    <tr>\n",
       "      <th>hyundai</th>\n",
       "      <td>440</td>\n",
       "      <td>5550.663636</td>\n",
       "    </tr>\n",
       "    <tr>\n",
       "      <th>toyota</th>\n",
       "      <td>573</td>\n",
       "      <td>5227.741710</td>\n",
       "    </tr>\n",
       "    <tr>\n",
       "      <th>volvo</th>\n",
       "      <td>404</td>\n",
       "      <td>5008.017327</td>\n",
       "    </tr>\n",
       "    <tr>\n",
       "      <th>nissan</th>\n",
       "      <td>668</td>\n",
       "      <td>4895.949102</td>\n",
       "    </tr>\n",
       "    <tr>\n",
       "      <th>seat</th>\n",
       "      <td>796</td>\n",
       "      <td>4494.374372</td>\n",
       "    </tr>\n",
       "    <tr>\n",
       "      <th>honda</th>\n",
       "      <td>341</td>\n",
       "      <td>4289.222874</td>\n",
       "    </tr>\n",
       "    <tr>\n",
       "      <th>mazda</th>\n",
       "      <td>649</td>\n",
       "      <td>4269.382126</td>\n",
       "    </tr>\n",
       "    <tr>\n",
       "      <th>subaru</th>\n",
       "      <td>89</td>\n",
       "      <td>4257.516854</td>\n",
       "    </tr>\n",
       "    <tr>\n",
       "      <th>alfa_romeo</th>\n",
       "      <td>285</td>\n",
       "      <td>4205.515789</td>\n",
       "    </tr>\n",
       "    <tr>\n",
       "      <th>suzuki</th>\n",
       "      <td>261</td>\n",
       "      <td>4195.444444</td>\n",
       "    </tr>\n",
       "    <tr>\n",
       "      <th>smart</th>\n",
       "      <td>620</td>\n",
       "      <td>3676.553226</td>\n",
       "    </tr>\n",
       "    <tr>\n",
       "      <th>mitsubishi</th>\n",
       "      <td>345</td>\n",
       "      <td>3563.730435</td>\n",
       "    </tr>\n",
       "    <tr>\n",
       "      <th>chrysler</th>\n",
       "      <td>158</td>\n",
       "      <td>3373.943038</td>\n",
       "    </tr>\n",
       "    <tr>\n",
       "      <th>saab</th>\n",
       "      <td>73</td>\n",
       "      <td>3329.410959</td>\n",
       "    </tr>\n",
       "    <tr>\n",
       "      <th>peugeot</th>\n",
       "      <td>1295</td>\n",
       "      <td>3184.098069</td>\n",
       "    </tr>\n",
       "    <tr>\n",
       "      <th>lancia</th>\n",
       "      <td>44</td>\n",
       "      <td>3112.477273</td>\n",
       "    </tr>\n",
       "    <tr>\n",
       "      <th>fiat</th>\n",
       "      <td>1107</td>\n",
       "      <td>2892.084914</td>\n",
       "    </tr>\n",
       "    <tr>\n",
       "      <th>lada</th>\n",
       "      <td>24</td>\n",
       "      <td>2599.750000</td>\n",
       "    </tr>\n",
       "    <tr>\n",
       "      <th>renault</th>\n",
       "      <td>2035</td>\n",
       "      <td>2548.234889</td>\n",
       "    </tr>\n",
       "    <tr>\n",
       "      <th>trabant</th>\n",
       "      <td>44</td>\n",
       "      <td>2237.931818</td>\n",
       "    </tr>\n",
       "    <tr>\n",
       "      <th>daihatsu</th>\n",
       "      <td>104</td>\n",
       "      <td>1693.567308</td>\n",
       "    </tr>\n",
       "    <tr>\n",
       "      <th>rover</th>\n",
       "      <td>57</td>\n",
       "      <td>1677.052632</td>\n",
       "    </tr>\n",
       "    <tr>\n",
       "      <th>daewoo</th>\n",
       "      <td>65</td>\n",
       "      <td>1072.000000</td>\n",
       "    </tr>\n",
       "  </tbody>\n",
       "</table>\n",
       "</div>"
      ],
      "text/plain": [
       "                count    mean_price\n",
       "sonstige_autos    417  49574.985612\n",
       "citroen           600  49367.853333\n",
       "porsche           277  46796.678700\n",
       "mercedes_benz    4309  31976.597122\n",
       "land_rover         93  19685.956989\n",
       "jeep              101  12049.049505\n",
       "jaguar             70  11925.314286\n",
       "mini              402  10664.569652\n",
       "audi             3822   9604.788069\n",
       "bmw              4874   8734.987485\n",
       "ford             2975   7970.843361\n",
       "chevrolet         248   6753.270161\n",
       "skoda             730   6542.939726\n",
       "dacia             118   5967.457627\n",
       "kia               328   5949.240854\n",
       "volkswagen       9062   5859.364268\n",
       "opel             4538   5813.696342\n",
       "hyundai           440   5550.663636\n",
       "toyota            573   5227.741710\n",
       "volvo             404   5008.017327\n",
       "nissan            668   4895.949102\n",
       "seat              796   4494.374372\n",
       "honda             341   4289.222874\n",
       "mazda             649   4269.382126\n",
       "subaru             89   4257.516854\n",
       "alfa_romeo        285   4205.515789\n",
       "suzuki            261   4195.444444\n",
       "smart             620   3676.553226\n",
       "mitsubishi        345   3563.730435\n",
       "chrysler          158   3373.943038\n",
       "saab               73   3329.410959\n",
       "peugeot          1295   3184.098069\n",
       "lancia             44   3112.477273\n",
       "fiat             1107   2892.084914\n",
       "lada               24   2599.750000\n",
       "renault          2035   2548.234889\n",
       "trabant            44   2237.931818\n",
       "daihatsu          104   1693.567308\n",
       "rover              57   1677.052632\n",
       "daewoo             65   1072.000000"
      ]
     },
     "execution_count": 154,
     "metadata": {},
     "output_type": "execute_result"
    }
   ],
   "source": [
    "brands = pd.concat([brands_count, brands_mean_price], axis=1)\n",
    "brands.rename({'date_crawled':'count', 'price_$':'mean_price'}, axis=1, inplace=True)\n",
    "brands.sort_values('mean_price', ascending=False)"
   ]
  },
  {
   "cell_type": "code",
   "execution_count": 155,
   "metadata": {
    "collapsed": false
   },
   "outputs": [
    {
     "name": "stdout",
     "output_type": "stream",
     "text": [
      "min count: 24\n",
      "mean count: 1086.025\n",
      "max count: 9062\n",
      "min price: 1072.0\n",
      "mean price: 9414.806397214299\n",
      "max price: 49574.98561151079\n"
     ]
    }
   ],
   "source": [
    "print(\"min count:\", brands['count'].min())\n",
    "print(\"mean count:\", brands['count'].mean())\n",
    "print(\"max count:\", brands['count'].max())\n",
    "print(\"min price:\", brands['mean_price'].min())\n",
    "print(\"mean price:\", brands['mean_price'].mean())\n",
    "print(\"max price:\", brands['mean_price'].max())"
   ]
  },
  {
   "cell_type": "code",
   "execution_count": 156,
   "metadata": {
    "collapsed": false
   },
   "outputs": [
    {
     "data": {
      "text/plain": [
       "audi              3822\n",
       "citroen            600\n",
       "jaguar              70\n",
       "jeep               101\n",
       "land_rover          93\n",
       "mercedes_benz     4309\n",
       "mini               402\n",
       "porsche            277\n",
       "sonstige_autos     417\n",
       "Name: count, dtype: int64"
      ]
     },
     "execution_count": 156,
     "metadata": {},
     "output_type": "execute_result"
    }
   ],
   "source": [
    "brands.loc[brands['mean_price'] > brands['mean_price'].mean(), 'count']"
   ]
  },
  {
   "cell_type": "markdown",
   "metadata": {},
   "source": [
    "#### we see that all cars with price greater than mean price have  count less than mean count except mercedes_benz and audi, which means that people are less likely to put expensive cars on sale or it could mean that more epensive cars are less sold and hence less used cars are put on sale."
   ]
  },
  {
   "cell_type": "markdown",
   "metadata": {},
   "source": [
    "#### Now we want to see if mileage has any impact on price"
   ]
  },
  {
   "cell_type": "code",
   "execution_count": 157,
   "metadata": {
    "collapsed": false
   },
   "outputs": [],
   "source": [
    "brands_mileage = autos.groupby('brand').mean()['odometer_km']\n",
    "brands = pd.concat([brands, brands_mileage], axis=1)\n",
    "brands.rename({'odometer_km':'mean_mileage'}, axis=1, inplace=True)"
   ]
  },
  {
   "cell_type": "code",
   "execution_count": 158,
   "metadata": {
    "collapsed": false
   },
   "outputs": [
    {
     "data": {
      "text/html": [
       "<div>\n",
       "<style scoped>\n",
       "    .dataframe tbody tr th:only-of-type {\n",
       "        vertical-align: middle;\n",
       "    }\n",
       "\n",
       "    .dataframe tbody tr th {\n",
       "        vertical-align: top;\n",
       "    }\n",
       "\n",
       "    .dataframe thead th {\n",
       "        text-align: right;\n",
       "    }\n",
       "</style>\n",
       "<table border=\"1\" class=\"dataframe\">\n",
       "  <thead>\n",
       "    <tr style=\"text-align: right;\">\n",
       "      <th></th>\n",
       "      <th>count</th>\n",
       "      <th>mean_price</th>\n",
       "      <th>mean_mileage</th>\n",
       "    </tr>\n",
       "    <tr>\n",
       "      <th>brand</th>\n",
       "      <th></th>\n",
       "      <th></th>\n",
       "      <th></th>\n",
       "    </tr>\n",
       "  </thead>\n",
       "  <tbody>\n",
       "    <tr>\n",
       "      <th>sonstige_autos</th>\n",
       "      <td>417</td>\n",
       "      <td>49574.985612</td>\n",
       "      <td>90155.875300</td>\n",
       "    </tr>\n",
       "    <tr>\n",
       "      <th>citroen</th>\n",
       "      <td>600</td>\n",
       "      <td>49367.853333</td>\n",
       "      <td>118516.666667</td>\n",
       "    </tr>\n",
       "    <tr>\n",
       "      <th>porsche</th>\n",
       "      <td>277</td>\n",
       "      <td>46796.678700</td>\n",
       "      <td>98537.906137</td>\n",
       "    </tr>\n",
       "    <tr>\n",
       "      <th>mercedes_benz</th>\n",
       "      <td>4309</td>\n",
       "      <td>31976.597122</td>\n",
       "      <td>130971.223022</td>\n",
       "    </tr>\n",
       "    <tr>\n",
       "      <th>land_rover</th>\n",
       "      <td>93</td>\n",
       "      <td>19685.956989</td>\n",
       "      <td>118924.731183</td>\n",
       "    </tr>\n",
       "    <tr>\n",
       "      <th>jeep</th>\n",
       "      <td>101</td>\n",
       "      <td>12049.049505</td>\n",
       "      <td>125990.099010</td>\n",
       "    </tr>\n",
       "    <tr>\n",
       "      <th>jaguar</th>\n",
       "      <td>70</td>\n",
       "      <td>11925.314286</td>\n",
       "      <td>120785.714286</td>\n",
       "    </tr>\n",
       "    <tr>\n",
       "      <th>mini</th>\n",
       "      <td>402</td>\n",
       "      <td>10664.569652</td>\n",
       "      <td>87972.636816</td>\n",
       "    </tr>\n",
       "    <tr>\n",
       "      <th>audi</th>\n",
       "      <td>3822</td>\n",
       "      <td>9604.788069</td>\n",
       "      <td>128784.667713</td>\n",
       "    </tr>\n",
       "    <tr>\n",
       "      <th>bmw</th>\n",
       "      <td>4874</td>\n",
       "      <td>8734.987485</td>\n",
       "      <td>132541.034058</td>\n",
       "    </tr>\n",
       "    <tr>\n",
       "      <th>ford</th>\n",
       "      <td>2975</td>\n",
       "      <td>7970.843361</td>\n",
       "      <td>123983.193277</td>\n",
       "    </tr>\n",
       "    <tr>\n",
       "      <th>chevrolet</th>\n",
       "      <td>248</td>\n",
       "      <td>6753.270161</td>\n",
       "      <td>99677.419355</td>\n",
       "    </tr>\n",
       "    <tr>\n",
       "      <th>skoda</th>\n",
       "      <td>730</td>\n",
       "      <td>6542.939726</td>\n",
       "      <td>110157.534247</td>\n",
       "    </tr>\n",
       "    <tr>\n",
       "      <th>dacia</th>\n",
       "      <td>118</td>\n",
       "      <td>5967.457627</td>\n",
       "      <td>83983.050847</td>\n",
       "    </tr>\n",
       "    <tr>\n",
       "      <th>kia</th>\n",
       "      <td>328</td>\n",
       "      <td>5949.240854</td>\n",
       "      <td>111646.341463</td>\n",
       "    </tr>\n",
       "    <tr>\n",
       "      <th>volkswagen</th>\n",
       "      <td>9062</td>\n",
       "      <td>5859.364268</td>\n",
       "      <td>128343.632752</td>\n",
       "    </tr>\n",
       "    <tr>\n",
       "      <th>opel</th>\n",
       "      <td>4538</td>\n",
       "      <td>5813.696342</td>\n",
       "      <td>128884.971353</td>\n",
       "    </tr>\n",
       "    <tr>\n",
       "      <th>hyundai</th>\n",
       "      <td>440</td>\n",
       "      <td>5550.663636</td>\n",
       "      <td>105613.636364</td>\n",
       "    </tr>\n",
       "    <tr>\n",
       "      <th>toyota</th>\n",
       "      <td>573</td>\n",
       "      <td>5227.741710</td>\n",
       "      <td>115191.972077</td>\n",
       "    </tr>\n",
       "    <tr>\n",
       "      <th>volvo</th>\n",
       "      <td>404</td>\n",
       "      <td>5008.017327</td>\n",
       "      <td>138824.257426</td>\n",
       "    </tr>\n",
       "    <tr>\n",
       "      <th>nissan</th>\n",
       "      <td>668</td>\n",
       "      <td>4895.949102</td>\n",
       "      <td>117485.029940</td>\n",
       "    </tr>\n",
       "    <tr>\n",
       "      <th>seat</th>\n",
       "      <td>796</td>\n",
       "      <td>4494.374372</td>\n",
       "      <td>121017.587940</td>\n",
       "    </tr>\n",
       "    <tr>\n",
       "      <th>honda</th>\n",
       "      <td>341</td>\n",
       "      <td>4289.222874</td>\n",
       "      <td>122375.366569</td>\n",
       "    </tr>\n",
       "    <tr>\n",
       "      <th>mazda</th>\n",
       "      <td>649</td>\n",
       "      <td>4269.382126</td>\n",
       "      <td>123543.913713</td>\n",
       "    </tr>\n",
       "    <tr>\n",
       "      <th>subaru</th>\n",
       "      <td>89</td>\n",
       "      <td>4257.516854</td>\n",
       "      <td>124438.202247</td>\n",
       "    </tr>\n",
       "    <tr>\n",
       "      <th>alfa_romeo</th>\n",
       "      <td>285</td>\n",
       "      <td>4205.515789</td>\n",
       "      <td>131578.947368</td>\n",
       "    </tr>\n",
       "    <tr>\n",
       "      <th>suzuki</th>\n",
       "      <td>261</td>\n",
       "      <td>4195.444444</td>\n",
       "      <td>109252.873563</td>\n",
       "    </tr>\n",
       "    <tr>\n",
       "      <th>smart</th>\n",
       "      <td>620</td>\n",
       "      <td>3676.553226</td>\n",
       "      <td>99104.838710</td>\n",
       "    </tr>\n",
       "    <tr>\n",
       "      <th>mitsubishi</th>\n",
       "      <td>345</td>\n",
       "      <td>3563.730435</td>\n",
       "      <td>125898.550725</td>\n",
       "    </tr>\n",
       "    <tr>\n",
       "      <th>chrysler</th>\n",
       "      <td>158</td>\n",
       "      <td>3373.943038</td>\n",
       "      <td>133797.468354</td>\n",
       "    </tr>\n",
       "    <tr>\n",
       "      <th>saab</th>\n",
       "      <td>73</td>\n",
       "      <td>3329.410959</td>\n",
       "      <td>144109.589041</td>\n",
       "    </tr>\n",
       "    <tr>\n",
       "      <th>peugeot</th>\n",
       "      <td>1295</td>\n",
       "      <td>3184.098069</td>\n",
       "      <td>126216.216216</td>\n",
       "    </tr>\n",
       "    <tr>\n",
       "      <th>lancia</th>\n",
       "      <td>44</td>\n",
       "      <td>3112.477273</td>\n",
       "      <td>124090.909091</td>\n",
       "    </tr>\n",
       "    <tr>\n",
       "      <th>fiat</th>\n",
       "      <td>1107</td>\n",
       "      <td>2892.084914</td>\n",
       "      <td>116038.843722</td>\n",
       "    </tr>\n",
       "    <tr>\n",
       "      <th>lada</th>\n",
       "      <td>24</td>\n",
       "      <td>2599.750000</td>\n",
       "      <td>91666.666667</td>\n",
       "    </tr>\n",
       "    <tr>\n",
       "      <th>renault</th>\n",
       "      <td>2035</td>\n",
       "      <td>2548.234889</td>\n",
       "      <td>127872.235872</td>\n",
       "    </tr>\n",
       "    <tr>\n",
       "      <th>trabant</th>\n",
       "      <td>44</td>\n",
       "      <td>2237.931818</td>\n",
       "      <td>50454.545455</td>\n",
       "    </tr>\n",
       "    <tr>\n",
       "      <th>daihatsu</th>\n",
       "      <td>104</td>\n",
       "      <td>1693.567308</td>\n",
       "      <td>116009.615385</td>\n",
       "    </tr>\n",
       "    <tr>\n",
       "      <th>rover</th>\n",
       "      <td>57</td>\n",
       "      <td>1677.052632</td>\n",
       "      <td>136140.350877</td>\n",
       "    </tr>\n",
       "    <tr>\n",
       "      <th>daewoo</th>\n",
       "      <td>65</td>\n",
       "      <td>1072.000000</td>\n",
       "      <td>122923.076923</td>\n",
       "    </tr>\n",
       "  </tbody>\n",
       "</table>\n",
       "</div>"
      ],
      "text/plain": [
       "                count    mean_price   mean_mileage\n",
       "brand                                             \n",
       "sonstige_autos    417  49574.985612   90155.875300\n",
       "citroen           600  49367.853333  118516.666667\n",
       "porsche           277  46796.678700   98537.906137\n",
       "mercedes_benz    4309  31976.597122  130971.223022\n",
       "land_rover         93  19685.956989  118924.731183\n",
       "jeep              101  12049.049505  125990.099010\n",
       "jaguar             70  11925.314286  120785.714286\n",
       "mini              402  10664.569652   87972.636816\n",
       "audi             3822   9604.788069  128784.667713\n",
       "bmw              4874   8734.987485  132541.034058\n",
       "ford             2975   7970.843361  123983.193277\n",
       "chevrolet         248   6753.270161   99677.419355\n",
       "skoda             730   6542.939726  110157.534247\n",
       "dacia             118   5967.457627   83983.050847\n",
       "kia               328   5949.240854  111646.341463\n",
       "volkswagen       9062   5859.364268  128343.632752\n",
       "opel             4538   5813.696342  128884.971353\n",
       "hyundai           440   5550.663636  105613.636364\n",
       "toyota            573   5227.741710  115191.972077\n",
       "volvo             404   5008.017327  138824.257426\n",
       "nissan            668   4895.949102  117485.029940\n",
       "seat              796   4494.374372  121017.587940\n",
       "honda             341   4289.222874  122375.366569\n",
       "mazda             649   4269.382126  123543.913713\n",
       "subaru             89   4257.516854  124438.202247\n",
       "alfa_romeo        285   4205.515789  131578.947368\n",
       "suzuki            261   4195.444444  109252.873563\n",
       "smart             620   3676.553226   99104.838710\n",
       "mitsubishi        345   3563.730435  125898.550725\n",
       "chrysler          158   3373.943038  133797.468354\n",
       "saab               73   3329.410959  144109.589041\n",
       "peugeot          1295   3184.098069  126216.216216\n",
       "lancia             44   3112.477273  124090.909091\n",
       "fiat             1107   2892.084914  116038.843722\n",
       "lada               24   2599.750000   91666.666667\n",
       "renault          2035   2548.234889  127872.235872\n",
       "trabant            44   2237.931818   50454.545455\n",
       "daihatsu          104   1693.567308  116009.615385\n",
       "rover              57   1677.052632  136140.350877\n",
       "daewoo             65   1072.000000  122923.076923"
      ]
     },
     "execution_count": 158,
     "metadata": {},
     "output_type": "execute_result"
    }
   ],
   "source": [
    "brands.sort_values('mean_price', ascending=False)"
   ]
  },
  {
   "cell_type": "markdown",
   "metadata": {
    "collapsed": true
   },
   "source": [
    "#### we can see that brand \"sonstige_autos\" with highest mean price has very low mean mileage as compared to brand \"citroen\" with second highest mean price. we can safely say that if both brands had same mileage then citroen would have much higher mean price than sonstige_autos."
   ]
  },
  {
   "cell_type": "code",
   "execution_count": 160,
   "metadata": {
    "collapsed": false
   },
   "outputs": [
    {
     "data": {
      "text/plain": [
       "array(['nein', nan, 'ja'], dtype=object)"
      ]
     },
     "execution_count": 160,
     "metadata": {},
     "output_type": "execute_result"
    }
   ],
   "source": [
    "autos['unrepaired_damage'].unique()"
   ]
  },
  {
   "cell_type": "markdown",
   "metadata": {},
   "source": [
    "#### we see that it has german words, we translate them to english and replace them with english translation"
   ]
  },
  {
   "cell_type": "code",
   "execution_count": 161,
   "metadata": {
    "collapsed": false
   },
   "outputs": [
    {
     "data": {
      "text/plain": [
       "array(['no', nan, 'yes'], dtype=object)"
      ]
     },
     "execution_count": 161,
     "metadata": {},
     "output_type": "execute_result"
    }
   ],
   "source": [
    "german_to_eng = {\n",
    "    \"ja\" : \"yes\",\n",
    "    \"nein\" : \"no\"\n",
    "}\n",
    "autos['unrepaired_damage'] = autos['unrepaired_damage'].map(german_to_eng)\n",
    "autos['unrepaired_damage'].unique()"
   ]
  },
  {
   "cell_type": "code",
   "execution_count": null,
   "metadata": {
    "collapsed": true
   },
   "outputs": [],
   "source": []
  }
 ],
 "metadata": {
  "kernelspec": {
   "display_name": "Python 3",
   "language": "python",
   "name": "python3"
  },
  "language_info": {
   "codemirror_mode": {
    "name": "ipython",
    "version": 3
   },
   "file_extension": ".py",
   "mimetype": "text/x-python",
   "name": "python",
   "nbconvert_exporter": "python",
   "pygments_lexer": "ipython3",
   "version": "3.4.3"
  }
 },
 "nbformat": 4,
 "nbformat_minor": 2
}
